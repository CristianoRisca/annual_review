{
 "cells": [
  {
   "cell_type": "code",
   "execution_count": 1,
   "metadata": {},
   "outputs": [],
   "source": [
    "#Romberg\n",
    "#Euler scheme\n",
    "\n",
    "import numpy as np\n",
    "import matplotlib.pyplot as plt\n",
    "\n",
    "mc=100000\n",
    "Dt=[2**(-10),2**(-9),2**(-8),2**(-7),2**(-6)]\n",
    "\n",
    "\n",
    "dW=np.zeros((mc,2**(11)))\n",
    "for i in range (mc):\n",
    "    np.random.seed(i)\n",
    "    dW[i,:]=np.sqrt(2**(-11))*np.random.randn(2**(11))\n",
    "\n",
    "W=np.zeros((mc,2**(11)))\n",
    "\n",
    "for i in range(mc):\n",
    "        W[i,:]=np.cumsum(dW[i,:])\n",
    "\n",
    "b=2;sigma=0.2;T=1\n",
    "X_zero=np.ones(mc)\n",
    "\n",
    "X_true= np.zeros(mc)\n",
    "\n",
    "X_true= np.exp((b-0.5*sigma**2)*(T)*np.ones(mc)+ sigma*W[:,-1])\n",
    "\n",
    "k1=2**(-11)\n",
    "X_Euler1= np.ones(mc)\n",
    "for a in range(2**(11)):\n",
    "    X_Euler1+= b*X_Euler1*(k1)+ sigma*X_Euler1*dW[:,a]\n",
    "\n",
    "k2=2**(-10)\n",
    "X_Euler2= np.ones(mc)\n",
    "Winc2=np.zeros((mc,2**10))\n",
    "for c in range(2**10):\n",
    "    for j in range(mc):\n",
    "        Winc2[j,c]=np.sum(dW[j,:][range(2*c,2*(c+1))])\n",
    "    X_Euler2+= b*X_Euler2*(k2)+ sigma*X_Euler2*Winc2[:,c]\n",
    "\n",
    "k3=2**(-9)\n",
    "X_Euler3= np.ones(mc)\n",
    "Winc3= np.zeros((mc,2**(9)))\n",
    "for d in range(2**(9)):\n",
    "    for j in range(mc):\n",
    "        Winc3[j,d]=np.sum(dW[j,:][range(4*d,4*(d+1))])\n",
    "    X_Euler3+= b*X_Euler3*(k3)+ sigma*X_Euler3*Winc3[:,d]\n",
    "\n",
    "k4=2**(-8)\n",
    "X_Euler4= np.ones(mc)\n",
    "Winc4= np.zeros((mc,2**(8)))\n",
    "for e in range(2**(8)):\n",
    "    for j in range(mc):\n",
    "        Winc4[j,e]= np.sum(dW[j,:][range(8*e,8*(e+1))])\n",
    "    X_Euler4+= b*X_Euler4*(k4)+ sigma*X_Euler4*Winc4[:,e]\n",
    "    \n",
    "k5=2**(-7)\n",
    "X_Euler5=np.ones(mc)\n",
    "Winc5=np.zeros((mc,2**(7)))\n",
    "for f in range (2**(7)):\n",
    "    for j in range(mc):\n",
    "        Winc5[j,f]= np.sum(dW[j,:][range(16*f,16*(f+1))])\n",
    "    X_Euler5+= b*X_Euler5*(k5)+ sigma*X_Euler5*Winc5[:,f]\n",
    "\n",
    "k6=2**(-6)\n",
    "X_Euler6=np.ones(mc)\n",
    "Winc6=np.zeros((mc,2**(6)))\n",
    "for g in range (2**(6)):\n",
    "    for j in range(mc):\n",
    "        Winc6[j,g]= np.sum(dW[j,:][range(32*g,32*(g+1))])\n",
    "    X_Euler6+= b*X_Euler6*(k6)+ sigma*X_Euler6*Winc6[:,g]\n",
    "\n",
    "\n",
    "A=np.mean(X_Euler1,0) \n",
    "B=np.mean(X_Euler2,0)\n",
    "C=np.mean(X_Euler3,0)\n",
    "D=np.mean(X_Euler4,0) \n",
    "E=np.mean(X_Euler5,0)\n",
    "F=np.mean(X_Euler6,0)\n",
    "G=np.mean(X_true,0)\n",
    "\n",
    "# 2 g(X\"}h2 - g(X)h)\n",
    "Romberg1= abs(G-(2*A-B))\n",
    "Romberg2= abs(G-(2*B-C))\n",
    "Romberg3= abs(G-(2*C-D))\n",
    "Romberg4= abs(G-(2*D-E))\n",
    "Romberg5= abs(G-(2*E-F))\n",
    "Romberg_err=[Romberg1,Romberg2,Romberg3,Romberg4,Romberg5]\n"
   ]
  },
  {
   "cell_type": "code",
   "execution_count": 6,
   "metadata": {},
   "outputs": [],
   "source": [
    "import matplotlib.pyplot as plt\n",
    "import numpy as np\n",
    "from sklearn import datasets, linear_model\n",
    "from sklearn.metrics import mean_squared_error, r2_score\n",
    "from sklearn.linear_model import LinearRegression"
   ]
  },
  {
   "cell_type": "code",
   "execution_count": 7,
   "metadata": {},
   "outputs": [],
   "source": [
    "h = np.array(Dt).reshape(-1,1)\n",
    "reg1 = LinearRegression().fit(np.log(h), np.log(Romberg_err))"
   ]
  },
  {
   "cell_type": "code",
   "execution_count": 8,
   "metadata": {},
   "outputs": [
    {
     "data": {
      "text/plain": [
       "array([1.93409904])"
      ]
     },
     "execution_count": 8,
     "metadata": {},
     "output_type": "execute_result"
    }
   ],
   "source": []
  },
  {
   "cell_type": "code",
   "execution_count": 11,
   "metadata": {},
   "outputs": [
    {
     "data": {
      "image/png": "[encoded data removed]",
      "text/plain": [
       "<Figure size 432x288 with 1 Axes>"
      ]
     },
     "metadata": {
      "needs_background": "light"
     },
     "output_type": "display_data"
    }
   ],
   "source": [
    "pal = [\"#FBB4AE\",\"#B3CDE3\", \"#CCEBC5\",\"#CFCCC4\"]\n",
    "plt.loglog(Dt,Romberg_err,'P',color=pal[0])\n",
    "\n",
    "x=np.linspace(0.0001,0.02)\n",
    "#y=(reg1.coef_[0])*x + reg1.intercept_\n",
    "y = np.exp(reg1.intercept_) * x**reg1.coef_\n",
    "s = np.exp(1) * x**(2)\n",
    "r = np.exp(0.5) * x**(1)\n",
    "plt.loglog(x, y, color=pal[2], label='Romberg method')\n",
    "plt.loglog(x, s, 'g-.' , color='brown', label='Order 2')\n",
    "plt.loglog(x, r, ':' , color='red', label= 'Order 1')\n",
    "\n",
    "plt.title('Convergence of SDE Approximations')\n",
    "plt.xlabel('$\\log(\\Delta t)$'); plt.ylabel(' weak-error');plt.legend(loc=4)\n",
    "\n",
    "plt.show()    "
   ]
  },
  {
   "cell_type": "code",
   "execution_count": null,
   "metadata": {},
   "outputs": [],
   "source": []
  }
 ],
 "metadata": {
  "kernelspec": {
   "display_name": "Python 3",
   "language": "python",
   "name": "python3"
  },
  "language_info": {
   "codemirror_mode": {
    "name": "ipython",
    "version": 3
   },
   "file_extension": ".py",
   "mimetype": "text/x-python",
   "name": "python",
   "nbconvert_exporter": "python",
   "pygments_lexer": "ipython3",
   "version": "3.8.3"
  }
 },
 "nbformat": 4,
 "nbformat_minor": 4
}
