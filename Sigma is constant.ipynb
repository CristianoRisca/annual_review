{
 "cells": [
  {
   "cell_type": "code",
   "execution_count": 1,
   "metadata": {},
   "outputs": [
    {
     "name": "stdout",
     "output_type": "stream",
     "text": [
      "0.1440815751641101 0.2447528125687466\n",
      "0.1353352832366127 0.24542109027781644\n"
     ]
    }
   ],
   "source": [
    "# Euler & Milstein\n",
    "# dX_t= b X_t dt+ sigma dW_t\n",
    "import numpy as np\n",
    "import matplotlib.pyplot as plt\n",
    "\n",
    "T=1;b=-2;sigma=1\n",
    "mc=10000\n",
    "Err_strong=[]\n",
    "Err_weak=[]\n",
    "\n",
    "Winc=np.sqrt(2**(-10))*np.random.randn(mc,2**(10))\n",
    "k=2**(-10)\n",
    "Y=0\n",
    "for i in range (2**(10)):\n",
    "    Y += np.exp(-b*k*i)*Winc[:,i]\n",
    "X_true= np.exp(b*T)*(np.ones(mc) + sigma*Y)\n",
    "\n",
    "print(np.mean(X_true),np.var(X_true))\n",
    "print(np.exp(-2),0.25*(1-np.exp(-4)))\n",
    "\n",
    "\n",
    "k1= 2**(-10)\n",
    "X_LT=np.ones(mc)\n",
    "for i in range (2**(10)):\n",
    "    X_LT+= b*X_LT*k1+ sigma*Winc[:,i]\n",
    "X1= abs(X_true- X_LT)\n",
    "Y1= abs(np.mean(X_true,0)-np.mean(X_LT,0))\n",
    "Err_strong.append(np.mean(X1,0))\n",
    "Err_weak.append(Y1)\n",
    "\n",
    "\n",
    "k2=2**(-9)\n",
    "X_LT=np.ones(mc)\n",
    "Winc1= np.zeros((mc,2**(9)))\n",
    "for d in range(2**(9)):\n",
    "    for j in range(mc):\n",
    "        Winc1[j,d]=np.sum(Winc[j,:][range(2*d,2*(d+1))])\n",
    "    X_LT+= b*X_LT*k2+ sigma*Winc1[:,d]\n",
    "X2= abs(X_true- X_LT)\n",
    "Y2= abs(np.mean(X_true,0)-np.mean(X_LT,0))\n",
    "Err_strong.append(np.mean(X2,0))\n",
    "Err_weak.append(Y2)\n",
    "\n",
    "k3=2**(-8)\n",
    "X_LT=np.ones(mc)\n",
    "Winc2= np.zeros((mc,2**(8)))\n",
    "for d in range(2**(8)):\n",
    "    for j in range(mc):\n",
    "        Winc2[j,d]=np.sum(Winc[j,:][range(4*d,4*(d+1))])\n",
    "    X_LT+= b*X_LT*k3+ sigma*Winc2[:,d]\n",
    "X3= abs(X_true- X_LT)\n",
    "Y3= abs(np.mean(X_true,0)-np.mean(X_LT,0))\n",
    "Err_strong.append(np.mean(X3,0)) \n",
    "Err_weak.append(Y3)\n",
    "\n",
    "k4=2**(-7)\n",
    "X_LT=np.ones(mc)\n",
    "Winc3= np.zeros((mc,2**(7)))\n",
    "for d in range(2**(7)):\n",
    "    for j in range(mc):\n",
    "        Winc3[j,d]=np.sum(Winc[j,:][range(8*d,8*(d+1))])\n",
    "    X_LT+= b*X_LT*k4+ sigma*Winc3[:,d]\n",
    "X4= abs(X_true- X_LT)\n",
    "Y4= abs(np.mean(X_true,0)-np.mean(X_LT,0))\n",
    "Err_strong.append(np.mean(X4,0)) \n",
    "Err_weak.append(Y4)\n"
   ]
  },
  {
   "cell_type": "code",
   "execution_count": 3,
   "metadata": {},
   "outputs": [],
   "source": [
    "import matplotlib.pyplot as plt\n",
    "import numpy as np\n",
    "from sklearn import datasets, linear_model\n",
    "from sklearn.metrics import mean_squared_error, r2_score\n",
    "from sklearn.linear_model import LinearRegression"
   ]
  },
  {
   "cell_type": "code",
   "execution_count": 4,
   "metadata": {},
   "outputs": [],
   "source": [
    "h = np.array(Dt).reshape(-1,1)\n",
    "reg1 = LinearRegression().fit(np.log(h), np.log(Err_strong))\n",
    "reg2 = LinearRegression().fit(np.log(h), np.log(Err_weak))"
   ]
  },
  {
   "cell_type": "code",
   "execution_count": 8,
   "metadata": {},
   "outputs": [
    {
     "data": {
      "image/png": "[encoded data removed]",
      "text/plain": [
       "<Figure size 432x288 with 1 Axes>"
      ]
     },
     "metadata": {
      "needs_background": "light"
     },
     "output_type": "display_data"
    }
   ],
   "source": [
    "pal = [\"#FBB4AE\",\"#B3CDE3\", \"#CCEBC5\",\"#CFCCC4\"]\n",
    "Dt=[2**(-10),2**(-9),2**(-8),2**(-7)]\n",
    "plt.loglog(Dt , Err_strong ,'P', color=pal[0])\n",
    "plt.loglog(Dt , Err_weak,'D', color=pal[1])\n",
    "\n",
    "x=np.linspace(0.0001,0.02)\n",
    "#y=(reg1.coef_[0])*x + reg1.intercept_\n",
    "y = np.exp(reg1.intercept_) * x**reg1.coef_\n",
    "z = np.exp(reg2.intercept_) * x**reg2.coef_\n",
    "s = np.exp(1) * x**(0.5)\n",
    "r = np.exp(0.5) * x**(1)\n",
    "plt.loglog(x, y, color=pal[2], label='Euler&Mil Weak')\n",
    "plt.loglog(x, z, color=pal[3], label='Euler&Mil Strong')\n",
    "plt.loglog(x, s, 'g-.' , color='brown', label='Order 0.5')\n",
    "plt.loglog(x, r, ':' , color='red', label= 'Order 1')\n",
    "\n",
    "\n",
    "plt.title('Convergence of SDE Approximations')\n",
    "plt.xlabel('$\\log(\\Delta t)$'); plt.ylabel(' $\\log(L^{1})-error$');plt.legend(loc=4)\n",
    "\n",
    "plt.show()     \n",
    "    "
   ]
  },
  {
   "cell_type": "code",
   "execution_count": 9,
   "metadata": {},
   "outputs": [
    {
     "name": "stdout",
     "output_type": "stream",
     "text": [
      "0.13517330510125142 0.2399792633935971\n",
      "0.1353352832366127 0.24542109027781644\n"
     ]
    }
   ],
   "source": [
    "# LT- dtdw\n",
    "# dX_t= b X_t dt+ sigma dW_t\n",
    "import numpy as np\n",
    "import matplotlib.pyplot as plt\n",
    "\n",
    "T=1;b=-2;sigma=1\n",
    "mc=10000\n",
    "Err_strong=[]\n",
    "Err_weak=[]\n",
    "\n",
    "Winc=np.sqrt(2**(-10))*np.random.randn(mc,2**(10))\n",
    "k=2**(-10)\n",
    "Y=0\n",
    "for i in range (2**(10)):\n",
    "    Y += np.exp(-b*k*i)*Winc[:,i]\n",
    "X_true= np.exp(b*T)*(np.ones(mc) + sigma*Y)\n",
    "\n",
    "print(np.mean(X_true),np.var(X_true))\n",
    "print(np.exp(-2),0.25*(1-np.exp(-4)))\n",
    "\n",
    "\n",
    "k1= 2**(-10)\n",
    "X_LT=np.ones(mc)\n",
    "for i in range (2**(10)):\n",
    "    X_LT+= b*X_LT*k1\n",
    "    X_LT+= sigma*Winc[:,i]\n",
    "X1= abs(X_true- X_LT)\n",
    "Y1= abs(np.mean(X_true,0)-np.mean(X_LT,0))\n",
    "Err_strong.append(np.mean(X1,0))\n",
    "Err_weak.append(Y1)\n",
    "\n",
    "\n",
    "k2=2**(-9)\n",
    "X_LT=np.ones(mc)\n",
    "Winc1= np.zeros((mc,2**(9)))\n",
    "for d in range(2**(9)):\n",
    "    for j in range(mc):\n",
    "        Winc1[j,d]=np.sum(Winc[j,:][range(2*d,2*(d+1))])\n",
    "    X_LT+= b*X_LT*k2\n",
    "    X_LT+= sigma*Winc1[:,d]\n",
    "X2= abs(X_true- X_LT)\n",
    "Y2= abs(np.mean(X_true,0)-np.mean(X_LT,0))\n",
    "Err_strong.append(np.mean(X2,0))\n",
    "Err_weak.append(Y2)\n",
    "\n",
    "k3=2**(-8)\n",
    "X_LT=np.ones(mc)\n",
    "Winc2= np.zeros((mc,2**(8)))\n",
    "for d in range(2**(8)):\n",
    "    for j in range(mc):\n",
    "        Winc2[j,d]=np.sum(Winc[j,:][range(4*d,4*(d+1))])\n",
    "    X_LT+= b*X_LT*k3\n",
    "    X_LT+= sigma*Winc2[:,d]\n",
    "X3= abs(X_true- X_LT)\n",
    "Y3= abs(np.mean(X_true,0)-np.mean(X_LT,0))\n",
    "Err_strong.append(np.mean(X3,0)) \n",
    "Err_weak.append(Y3)\n",
    "\n",
    "k4=2**(-7)\n",
    "X_LT=np.ones(mc)\n",
    "Winc3= np.zeros((mc,2**(7)))\n",
    "for d in range(2**(7)):\n",
    "    for j in range(mc):\n",
    "        Winc3[j,d]=np.sum(Winc[j,:][range(8*d,8*(d+1))])\n",
    "    X_LT+= b*X_LT*k4\n",
    "    X_LT+= sigma*Winc3[:,d]\n",
    "X4= abs(X_true- X_LT)\n",
    "Y4= abs(np.mean(X_true,0)-np.mean(X_LT,0))\n",
    "Err_strong.append(np.mean(X4,0)) \n",
    "Err_weak.append(Y4)"
   ]
  },
  {
   "cell_type": "code",
   "execution_count": 10,
   "metadata": {},
   "outputs": [],
   "source": [
    "import matplotlib.pyplot as plt\n",
    "import numpy as np\n",
    "from sklearn import datasets, linear_model\n",
    "from sklearn.metrics import mean_squared_error, r2_score\n",
    "from sklearn.linear_model import LinearRegression"
   ]
  },
  {
   "cell_type": "code",
   "execution_count": 11,
   "metadata": {},
   "outputs": [],
   "source": [
    "h = np.array(Dt).reshape(-1,1)\n",
    "reg1 = LinearRegression().fit(np.log(h), np.log(Err_strong))\n",
    "reg2 = LinearRegression().fit(np.log(h), np.log(Err_weak))"
   ]
  },
  {
   "cell_type": "code",
   "execution_count": 13,
   "metadata": {},
   "outputs": [
    {
     "data": {
      "image/png": "[encoded data removed]",
      "text/plain": [
       "<Figure size 432x288 with 1 Axes>"
      ]
     },
     "metadata": {
      "needs_background": "light"
     },
     "output_type": "display_data"
    }
   ],
   "source": [
    "pal = [\"#FBB4AE\",\"#B3CDE3\", \"#CCEBC5\",\"#CFCCC4\"]\n",
    "Dt=[2**(-10),2**(-9),2**(-8),2**(-7)]\n",
    "plt.loglog(Dt , Err_strong ,'P', color=pal[0])\n",
    "plt.loglog(Dt , Err_weak,'D', color=pal[1])\n",
    "\n",
    "x=np.linspace(0.0001,0.02)\n",
    "#y=(reg1.coef_[0])*x + reg1.intercept_\n",
    "y = np.exp(reg1.intercept_) * x**reg1.coef_\n",
    "z = np.exp(reg2.intercept_) * x**reg2.coef_\n",
    "s = np.exp(1) * x**(0.5)\n",
    "r = np.exp(0.5) * x**(1)\n",
    "plt.loglog(x, y, color=pal[2], label='LT Weak')\n",
    "plt.loglog(x, z, color=pal[3], label='LT Strong')\n",
    "plt.loglog(x, s, 'g-.' , color='brown', label='Order 0.5')\n",
    "plt.loglog(x, r, ':' , color='red', label= 'Order 1')\n",
    "\n",
    "\n",
    "plt.title('Convergence of SDE Approximations')\n",
    "plt.xlabel('$\\log(\\Delta t)$'); plt.ylabel(' $\\log(L^{1})-error$');plt.legend(loc=4)\n",
    "\n",
    "plt.show()     \n",
    "    "
   ]
  },
  {
   "cell_type": "code",
   "execution_count": 14,
   "metadata": {},
   "outputs": [
    {
     "name": "stdout",
     "output_type": "stream",
     "text": [
      "0.13863910045262054 0.25078333366320427\n",
      "0.1353352832366127 0.24542109027781644\n"
     ]
    }
   ],
   "source": [
    "# LT - dwdt\n",
    "# dX_t= b X_t dt+ sigma dW_t\n",
    "import numpy as np\n",
    "import matplotlib.pyplot as plt\n",
    "\n",
    "T=1;b=-2;sigma=1\n",
    "mc=10000\n",
    "Err_strong=[]\n",
    "Err_weak=[]\n",
    "\n",
    "Winc=np.sqrt(2**(-10))*np.random.randn(mc,2**(10))\n",
    "k=2**(-10)\n",
    "Y=0\n",
    "for i in range (2**(10)):\n",
    "    Y += np.exp(-b*k*i)*Winc[:,i]\n",
    "X_true= np.exp(b*T)*(np.ones(mc) + sigma*Y)\n",
    "\n",
    "print(np.mean(X_true),np.var(X_true))\n",
    "print(np.exp(-2),0.25*(1-np.exp(-4)))\n",
    "\n",
    "\n",
    "k1= 2**(-10)\n",
    "X_LT=np.ones(mc)\n",
    "for i in range (2**(10)):\n",
    "    X_LT+= sigma*Winc[:,i]\n",
    "    X_LT+= b*X_LT*k1\n",
    "X1= abs(X_true- X_LT)\n",
    "Y1= abs(np.mean(X_true,0)-np.mean(X_LT,0))\n",
    "Err_strong.append(np.mean(X1,0))\n",
    "Err_weak.append(Y1)\n",
    "\n",
    "\n",
    "k2=2**(-9)\n",
    "X_LT=np.ones(mc)\n",
    "Winc1= np.zeros((mc,2**(9)))\n",
    "for d in range(2**(9)):\n",
    "    for j in range(mc):\n",
    "        Winc1[j,d]=np.sum(Winc[j,:][range(2*d,2*(d+1))])\n",
    "    X_LT+= sigma*Winc1[:,d]\n",
    "    X_LT+= b*X_LT*k2\n",
    "X2= abs(X_true- X_LT)\n",
    "Y2= abs(np.mean(X_true,0)-np.mean(X_LT,0))\n",
    "Err_strong.append(np.mean(X2,0))\n",
    "Err_weak.append(Y2)\n",
    "\n",
    "k3=2**(-8)\n",
    "X_LT=np.ones(mc)\n",
    "Winc2= np.zeros((mc,2**(8)))\n",
    "for d in range(2**(8)):\n",
    "    for j in range(mc):\n",
    "        Winc2[j,d]=np.sum(Winc[j,:][range(4*d,4*(d+1))])\n",
    "    X_LT+= sigma*Winc2[:,d]\n",
    "    X_LT+= b*X_LT*k3\n",
    "X3= abs(X_true- X_LT)\n",
    "Y3= abs(np.mean(X_true,0)-np.mean(X_LT,0))\n",
    "Err_strong.append(np.mean(X3,0)) \n",
    "Err_weak.append(Y3)\n",
    "\n",
    "k4=2**(-7)\n",
    "X_LT=np.ones(mc)\n",
    "Winc3= np.zeros((mc,2**(7)))\n",
    "for d in range(2**(7)):\n",
    "    for j in range(mc):\n",
    "        Winc3[j,d]=np.sum(Winc[j,:][range(8*d,8*(d+1))])\n",
    "    X_LT+= sigma*Winc3[:,d]\n",
    "    X_LT+= b*X_LT*k4\n",
    "X4= abs(X_true- X_LT)\n",
    "Y4= abs(np.mean(X_true,0)-np.mean(X_LT,0))\n",
    "Err_strong.append(np.mean(X4,0)) \n",
    "Err_weak.append(Y4)\n"
   ]
  },
  {
   "cell_type": "code",
   "execution_count": 15,
   "metadata": {},
   "outputs": [],
   "source": [
    "import matplotlib.pyplot as plt\n",
    "import numpy as np\n",
    "from sklearn import datasets, linear_model\n",
    "from sklearn.metrics import mean_squared_error, r2_score\n",
    "from sklearn.linear_model import LinearRegression"
   ]
  },
  {
   "cell_type": "code",
   "execution_count": null,
   "metadata": {},
   "outputs": [],
   "source": []
  },
  {
   "cell_type": "code",
   "execution_count": null,
   "metadata": {},
   "outputs": [],
   "source": []
  },
  {
   "cell_type": "code",
   "execution_count": 16,
   "metadata": {},
   "outputs": [],
   "source": [
    "h = np.array(Dt).reshape(-1,1)\n",
    "reg1 = LinearRegression().fit(np.log(h), np.log(Err_strong))\n",
    "reg2 = LinearRegression().fit(np.log(h), np.log(Err_weak))"
   ]
  },
  {
   "cell_type": "code",
   "execution_count": 17,
   "metadata": {},
   "outputs": [
    {
     "data": {
      "image/png": "[encoded data removed]",
      "text/plain": [
       "<Figure size 432x288 with 1 Axes>"
      ]
     },
     "metadata": {
      "needs_background": "light"
     },
     "output_type": "display_data"
    }
   ],
   "source": [
    "pal = [\"#FBB4AE\",\"#B3CDE3\", \"#CCEBC5\",\"#CFCCC4\"]\n",
    "Dt=[2**(-10),2**(-9),2**(-8),2**(-7)]\n",
    "plt.loglog(Dt , Err_strong ,'P', color=pal[0])\n",
    "plt.loglog(Dt , Err_weak,'D', color=pal[1])\n",
    "\n",
    "x=np.linspace(0.0001,0.02)\n",
    "#y=(reg1.coef_[0])*x + reg1.intercept_\n",
    "y = np.exp(reg1.intercept_) * x**reg1.coef_\n",
    "z = np.exp(reg2.intercept_) * x**reg2.coef_\n",
    "s = np.exp(1) * x**(0.5)\n",
    "r = np.exp(0.5) * x**(1)\n",
    "plt.loglog(x, y, color=pal[2], label='LT Weak')\n",
    "plt.loglog(x, z, color=pal[3], label='LT Strong')\n",
    "plt.loglog(x, s, 'g-.' , color='brown', label='Order 0.5')\n",
    "plt.loglog(x, r, ':' , color='red', label= 'Order 1')\n",
    "\n",
    "\n",
    "plt.title('Convergence of SDE Approximations')\n",
    "plt.xlabel('$\\log(\\Delta t)$'); plt.ylabel(' $\\log(L^{1})-error$');plt.legend(loc=4)\n",
    "\n",
    "plt.show()     "
   ]
  },
  {
   "cell_type": "code",
   "execution_count": 18,
   "metadata": {},
   "outputs": [
    {
     "name": "stdout",
     "output_type": "stream",
     "text": [
      "0.13133477070285599 0.25020163036881976\n",
      "0.1353352832366127 0.24542109027781644\n"
     ]
    }
   ],
   "source": [
    "# Strang\n",
    "import numpy as np\n",
    "import matplotlib.pyplot as plt\n",
    "\n",
    "T=1;b=-2;sigma=1\n",
    "mc=10000\n",
    "Err_strong=[]\n",
    "Err_weak=[]\n",
    "\n",
    "Winc=np.sqrt(2**(-10))*np.random.randn(mc,2**(10))\n",
    "k=2**(-10)\n",
    "Y=0\n",
    "for i in range (2**(10)):\n",
    "    Y += np.exp(-b*k*i)*Winc[:,i]\n",
    "X_true= np.exp(b*T)*(np.ones(mc) + sigma*Y)\n",
    "\n",
    "print(np.mean(X_true),np.var(X_true))\n",
    "print(np.exp(-2),0.25*(1-np.exp(-4)))\n",
    "\n",
    "\n",
    "k1= 2**(-10)\n",
    "X_LT=np.ones(mc)\n",
    "for i in range (2**(10)):\n",
    "    X_LT+= b*X_LT*(0.5*k1)\n",
    "    X_LT+= sigma*Winc[:,i]\n",
    "    X_LT+= b*X_LT*(0.5*k1)\n",
    "X1= abs(X_true- X_LT)\n",
    "Y1= abs(np.mean(X_true,0)-np.mean(X_LT,0))\n",
    "Err_strong.append(np.mean(X1,0))\n",
    "Err_weak.append(Y1)\n",
    "\n",
    "\n",
    "k2=2**(-9)\n",
    "X_LT=np.ones(mc)\n",
    "Winc1= np.zeros((mc,2**(9)))\n",
    "for d in range(2**(9)):\n",
    "    for j in range(mc):\n",
    "        Winc1[j,d]=np.sum(Winc[j,:][range(2*d,2*(d+1))])\n",
    "    X_LT+= b*X_LT*(0.5*k2)\n",
    "    X_LT+= sigma*Winc1[:,d]\n",
    "    X_LT+= b*X_LT*(0.5*k2)\n",
    "X2= abs(X_true- X_LT)\n",
    "Y2= abs(np.mean(X_true,0)-np.mean(X_LT,0))\n",
    "Err_strong.append(np.mean(X2,0))\n",
    "Err_weak.append(Y2)\n",
    "\n",
    "k3=2**(-8)\n",
    "X_LT=np.ones(mc)\n",
    "Winc2= np.zeros((mc,2**(8)))\n",
    "for d in range(2**(8)):\n",
    "    for j in range(mc):\n",
    "        Winc2[j,d]=np.sum(Winc[j,:][range(4*d,4*(d+1))])\n",
    "    X_LT+= b*X_LT*(0.5*k3)\n",
    "    X_LT+= sigma*Winc2[:,d]\n",
    "    X_LT+= b*X_LT*(0.5*k3)\n",
    "X3= abs(X_true- X_LT)\n",
    "Y3= abs(np.mean(X_true,0)-np.mean(X_LT,0))\n",
    "Err_strong.append(np.mean(X3,0)) \n",
    "Err_weak.append(Y3)\n",
    "\n",
    "k4=2**(-7)\n",
    "X_LT=np.ones(mc)\n",
    "Winc3= np.zeros((mc,2**(7)))\n",
    "for d in range(2**(7)):\n",
    "    for j in range(mc):\n",
    "        Winc3[j,d]=np.sum(Winc[j,:][range(8*d,8*(d+1))])\n",
    "    X_LT+= b*X_LT*(0.5*k4)\n",
    "    X_LT+= sigma*Winc3[:,d]\n",
    "    X_LT+= b*X_LT*(0.5*k4)\n",
    "X4= abs(X_true- X_LT)\n",
    "Y4= abs(np.mean(X_true,0)-np.mean(X_LT,0))\n",
    "Err_strong.append(np.mean(X4,0)) \n",
    "Err_weak.append(Y4)"
   ]
  },
  {
   "cell_type": "code",
   "execution_count": 19,
   "metadata": {},
   "outputs": [],
   "source": [
    "import matplotlib.pyplot as plt\n",
    "import numpy as np\n",
    "from sklearn import datasets, linear_model\n",
    "from sklearn.metrics import mean_squared_error, r2_score\n",
    "from sklearn.linear_model import LinearRegression"
   ]
  },
  {
   "cell_type": "code",
   "execution_count": 20,
   "metadata": {},
   "outputs": [],
   "source": [
    "h = np.array(Dt).reshape(-1,1)\n",
    "reg1 = LinearRegression().fit(np.log(h), np.log(Err_strong))\n",
    "reg2 = LinearRegression().fit(np.log(h), np.log(Err_weak))"
   ]
  },
  {
   "cell_type": "code",
   "execution_count": 21,
   "metadata": {},
   "outputs": [
    {
     "data": {
      "image/png": "[encoded data removed]",
      "text/plain": [
       "<Figure size 432x288 with 1 Axes>"
      ]
     },
     "metadata": {
      "needs_background": "light"
     },
     "output_type": "display_data"
    }
   ],
   "source": [
    "pal = [\"#FBB4AE\",\"#B3CDE3\", \"#CCEBC5\",\"#CFCCC4\"]\n",
    "Dt=[2**(-10),2**(-9),2**(-8),2**(-7)]\n",
    "plt.loglog(Dt , Err_strong ,'P', color=pal[0])\n",
    "plt.loglog(Dt , Err_weak,'D', color=pal[1])\n",
    "\n",
    "x=np.linspace(0.0001,0.02)\n",
    "#y=(reg1.coef_[0])*x + reg1.intercept_\n",
    "y = np.exp(reg1.intercept_) * x**reg1.coef_\n",
    "z = np.exp(reg2.intercept_) * x**reg2.coef_\n",
    "s = np.exp(1) * x**(0.5)\n",
    "r = np.exp(0.5) * x**(1)\n",
    "plt.loglog(x, y, color=pal[2], label='Strang Weak')\n",
    "plt.loglog(x, z, color=pal[3], label='LT Strong')\n",
    "plt.loglog(x, s, 'g-.' , color='brown', label='Order 0.5')\n",
    "plt.loglog(x, r, ':' , color='red', label= 'Order 1')\n",
    "\n",
    "\n",
    "plt.title('Convergence of SDE Approximations')\n",
    "plt.xlabel('$\\log(\\Delta t)$'); plt.ylabel(' $\\log(L^{1})-error$');plt.legend(loc=4)\n",
    "\n",
    "plt.show()     "
   ]
  },
  {
   "cell_type": "code",
   "execution_count": null,
   "metadata": {},
   "outputs": [],
   "source": []
  }
 ],
 "metadata": {
  "kernelspec": {
   "display_name": "Python 3",
   "language": "python",
   "name": "python3"
  },
  "language_info": {
   "codemirror_mode": {
    "name": "ipython",
    "version": 3
   },
   "file_extension": ".py",
   "mimetype": "text/x-python",
   "name": "python",
   "nbconvert_exporter": "python",
   "pygments_lexer": "ipython3",
   "version": "3.8.3"
  }
 },
 "nbformat": 4,
 "nbformat_minor": 4
}
